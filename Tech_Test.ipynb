{
  "cells": [
    {
      "cell_type": "markdown",
      "source": [
        "# Tech test\n",
        "\n",
        "The aim of this test is to evaluate some of the skills that you will use on your day-to-day activies at Sensyne Health.\n",
        "We collaborate as a team and the output of the Analytics side of the team has to be usable by others who might not necessarily be fluent in ML-ese.\n",
        "The aim of this task is to complete the assignment by focussing on key elements such as code reusability, clarity, conciseness, and use of best practices.\n",
        "\n",
        "In order to complete this assignment please consider the following classification problem given the dataset below (you are free to add and remove steps as you feel is required). \n",
        "\n",
        "Data contains information about mothers who may or may not develop diabetes (Outcome).\n",
        "\n",
        "1. Explore the data, identify and clarify any assumption you will make\n",
        "2. Consider any change/operation you will do based on your assumptions\n",
        "3. Your colleagues have used a Logistic regression classifier. Review the code and apply all the changes that you feel are required\n",
        "4. Compare this outcome with other two classifiers. Which one is the best out of the three?\n",
        "5. You are afraid of overfitting. How do you adjust your program to take care of that?\n",
        "6. Which classifier would you pick?\n",
        "\n",
        "At every step, git commit a different version of the Notebook to show the changes. Please do so on a local git repository. Don't worry about branches.\n"
      ],
      "metadata": {}
    },
    {
      "cell_type": "code",
      "source": [
        "import pandas as pd\n",
        "import matplotlib.pyplot as plt\n",
        "import numpy as np\n",
        "import random as rnd\n",
        "\n",
        "np.random.seed(int(rnd.random()*10000000))\n",
        "dataset = pd.read_csv(\"./dataset.csv\")"
      ],
      "outputs": [],
      "execution_count": 1,
      "metadata": {}
    },
    {
      "cell_type": "markdown",
      "source": [
        "## Question\n",
        "Can you please explore the data and provide some valid assumptions on them?"
      ],
      "metadata": {}
    },
    {
      "cell_type": "code",
      "source": [],
      "outputs": [],
      "execution_count": null,
      "metadata": {}
    },
    {
      "cell_type": "markdown",
      "source": [
        "## Question\n",
        "Anything that we need to do based on your assumptions?"
      ],
      "metadata": {}
    },
    {
      "cell_type": "code",
      "source": [],
      "outputs": [],
      "execution_count": null,
      "metadata": {}
    },
    {
      "cell_type": "code",
      "source": [
        "class0 = dataset.Outcome==0\n",
        "class1 = dataset.Outcome==1"
      ],
      "outputs": [],
      "execution_count": 2,
      "metadata": {}
    },
    {
      "cell_type": "code",
      "source": [
        "data_class0 = dataset[class0]\n",
        "data_class1 = dataset[class1]"
      ],
      "outputs": [],
      "execution_count": 3,
      "metadata": {}
    },
    {
      "cell_type": "code",
      "source": [
        "# Split train and test\n",
        "# Remaining of the proportion get you (1 - 0.7) automatically\n",
        "\n",
        "train_split_0 = int(np.floor(0.7 * len(data_class0)))\n",
        "train_split_1 = int(np.floor(0.7 * len(data_class1)))\n",
        "\n",
        "train_data = pd.concat([ data_class0[ :train_split_0    ], data_class1[ :train_split_1    ] ])\n",
        "test_data  = pd.concat([ data_class0[  train_split_0+1: ], data_class1[  train_split_1+1: ] ])\n",
        "\n",
        "assert abs(0.7 - (len(train_data) / (len(train_data) + len(test_data)))) < 0.01, \"There must be a problem with the train/test split of data\""
      ],
      "outputs": [],
      "execution_count": 4,
      "metadata": {}
    },
    {
      "cell_type": "markdown",
      "source": [
        "## Logistic regression"
      ],
      "metadata": {}
    },
    {
      "cell_type": "code",
      "source": [
        "from sklearn.linear_model import LogisticRegression\n",
        "from sklearn import metrics\n",
        "\n",
        "classifier = LogisticRegression().fit(train_data.loc[:, train_data.columns != 'Outcome'], np.ravel(train_data.loc[:, train_data.columns == 'Outcome']))\n",
        "\n",
        "prediction_test             = classifier.predict(test_data.loc[:, test_data.columns != 'Outcome'])\n",
        "prediction_probability_test = classifier.predict_proba(test_data.loc[:, test_data.columns != 'Outcome'])\n",
        "\n",
        "fig, ax = plt.subplots()\n",
        "\n",
        "metrics.plot_roc_curve(classifier, test_data.loc[:, test_data.columns != 'Outcome'], np.ravel(test_data.loc[:, test_data.columns == 'Outcome']), name= \"test data\", ax = ax)\n",
        "metrics.plot_roc_curve(classifier, train_data.loc[:, train_data.columns != 'Outcome'], np.ravel(train_data.loc[:, train_data.columns == 'Outcome']), name= \"train data\",ax = ax)\n"
      ],
      "outputs": [
        {
          "output_type": "stream",
          "name": "stderr",
          "text": [
            "/Users/carmelo.velardo/opt/anaconda3/envs/jupyterlab/lib/python3.8/site-packages/sklearn/linear_model/_logistic.py:762: ConvergenceWarning: lbfgs failed to converge (status=1):\n",
            "STOP: TOTAL NO. of ITERATIONS REACHED LIMIT.\n",
            "\n",
            "Increase the number of iterations (max_iter) or scale the data as shown in:\n",
            "    https://scikit-learn.org/stable/modules/preprocessing.html\n",
            "Please also refer to the documentation for alternative solver options:\n",
            "    https://scikit-learn.org/stable/modules/linear_model.html#logistic-regression\n",
            "  n_iter_i = _check_optimize_result(\n"
          ]
        },
        {
          "output_type": "execute_result",
          "execution_count": 5,
          "data": {
            "text/plain": [
              "<sklearn.metrics._plot.roc_curve.RocCurveDisplay at 0x7f8a30901ee0>"
            ]
          },
          "metadata": {}
        },
        {
          "output_type": "display_data",
          "data": {
            "image/png": "[encoded data removed]",
            "text/plain": [
              "<Figure size 432x288 with 1 Axes>"
            ]
          },
          "metadata": {
            "needs_background": "light"
          }
        }
      ],
      "execution_count": 5,
      "metadata": {}
    }
  ],
  "metadata": {
    "kernelspec": {
      "display_name": "Python 3",
      "language": "python",
      "name": "python3"
    },
    "language_info": {
      "codemirror_mode": {
        "name": "ipython",
        "version": 3
      },
      "file_extension": ".py",
      "mimetype": "text/x-python",
      "name": "python",
      "nbconvert_exporter": "python",
      "pygments_lexer": "ipython3",
      "version": "3.7.4"
    },
    "nteract": {
      "version": "0.21.0"
    }
  },
  "nbformat": 4,
  "nbformat_minor": 4
}